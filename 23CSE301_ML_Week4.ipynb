{
 "cells": [
  {
   "cell_type": "code",
   "execution_count": null,
   "metadata": {
    "id": "vid4ZWr6iKpV"
   },
   "outputs": [],
   "source": [
    "from sklearn.datasets import fetch_california_housing\n",
    "import pandas as pd\n",
    "import matplotlib.pyplot as plt\n",
    "import seaborn as sns\n",
    "\n",
    "# Load dataset\n",
    "data = fetch_california_housing(as_frame=True)\n",
    "df = data.frame\n",
    "\n",
    "# Preview\n",
    "df.head()"
   ]
  },
  {
   "cell_type": "code",
   "execution_count": null,
   "metadata": {
    "id": "vulcjm3Tm4GZ"
   },
   "outputs": [],
   "source": [
    "df.describe()"
   ]
  },
  {
   "cell_type": "code",
   "execution_count": null,
   "metadata": {
    "id": "ZWMRu-UNmIB8"
   },
   "outputs": [],
   "source": [
    "sns.boxplot(x=df['MedInc'])\n",
    "plt.show()\n",
    "\n",
    "sns.boxplot(x=df['HouseAge'])\n",
    "plt.show()\n",
    "\n",
    "sns.boxplot(x=df['AveRooms'])\n",
    "plt.show()\n",
    "\n",
    "sns.boxplot(x=df['MedHouseVal'])\n",
    "plt.show()"
   ]
  },
  {
   "cell_type": "code",
   "execution_count": null,
   "metadata": {
    "id": "gwlPbKQZrncq"
   },
   "outputs": [],
   "source": [
    "df['MedHouseVal'].hist(bins=50)\n",
    "plt.xlabel('Median House Value')\n",
    "plt.show()"
   ]
  },
  {
   "cell_type": "code",
   "execution_count": null,
   "metadata": {
    "id": "FAbtqjlMsF8q"
   },
   "outputs": [],
   "source": [
    "z_scores = np.abs(stats.zscore(df['MedHouseVal']))\n",
    "outliers_z = df[z_scores > 3]\n",
    "print(outliers_z.shape)"
   ]
  },
  {
   "cell_type": "code",
   "execution_count": null,
   "metadata": {
    "id": "SfTMJbbrtLIc"
   },
   "outputs": [],
   "source": [
    "Q1 = df['MedHouseVal'].quantile(0.25)\n",
    "Q3 = df['MedHouseVal'].quantile(0.75)\n",
    "IQR = Q3 - Q1\n",
    "\n",
    "lower_bound = Q1 - 1.5 * IQR\n",
    "upper_bound = Q3 + 1.5 * IQR\n",
    "\n",
    "outliers_iqr = df[(df['MedHouseVal'] < lower_bound) | (df['MedHouseVal'] > upper_bound)]\n",
    "print(outliers_iqr.shape)"
   ]
  },
  {
   "cell_type": "code",
   "execution_count": null,
   "metadata": {
    "id": "XpCUbEVatNTB"
   },
   "outputs": [],
   "source": [
    "df_removed = df[(df['MedHouseVal'] >= lower_bound) & (df['MedHouseVal'] <= upper_bound)]\n",
    "print(df_removed.shape)"
   ]
  },
  {
   "cell_type": "code",
   "execution_count": null,
   "metadata": {
    "id": "szL4boaDuF8b"
   },
   "outputs": [],
   "source": [
    "outliers_iqr1 = df_removed[(df_removed['MedHouseVal'] < lower_bound) | (df_removed['MedHouseVal'] > upper_bound)]\n",
    "print(outliers_iqr1.shape)"
   ]
  },
  {
   "cell_type": "code",
   "execution_count": null,
   "metadata": {
    "id": "cwAAK5sXuWOt"
   },
   "outputs": [],
   "source": [
    "df_capped = df.copy()\n",
    "df_capped['MedHouseVal'] = np.where(df_capped['MedHouseVal'] > upper_bound, upper_bound,\n",
    "                                    np.where(df_capped['MedHouseVal'] < lower_bound, lower_bound, df_capped['MedHouseVal']))"
   ]
  },
  {
   "cell_type": "code",
   "execution_count": null,
   "metadata": {
    "id": "cHRZDgW9ubod"
   },
   "outputs": [],
   "source": [
    "outliers_iqr2 = df_capped[(df_capped['MedHouseVal'] < lower_bound) | (df_capped['MedHouseVal'] > upper_bound)]\n",
    "print(outliers_iqr2.shape)"
   ]
  },
  {
   "cell_type": "code",
   "execution_count": null,
   "metadata": {
    "id": "Pwqa1lP0upas"
   },
   "outputs": [],
   "source": [
    "df_log = df.copy()\n",
    "df_log['MedHouseVal'] = np.log(df_log['MedHouseVal'] + 1)  # adding 1 to avoid log(0)"
   ]
  },
  {
   "cell_type": "code",
   "execution_count": null,
   "metadata": {
    "id": "9h2UU5IvurUV"
   },
   "outputs": [],
   "source": [
    "outliers_iqr3 = df_log[(df_capped['MedHouseVal'] < lower_bound) | (df_log['MedHouseVal'] > upper_bound)]\n",
    "print(outliers_iqr3.shape)"
   ]
  },
  {
   "cell_type": "code",
   "execution_count": null,
   "metadata": {
    "id": "bH5-LqkRuy__"
   },
   "outputs": [],
   "source": [
    "df_imp = df.copy()\n",
    "median_value = df['MedHouseVal'].median()\n",
    "df_imp.loc[(df_imp['MedHouseVal'] > upper_bound) | (df_imp['MedHouseVal'] < lower_bound), 'MedHouseVal'] = median_value"
   ]
  },
  {
   "cell_type": "code",
   "execution_count": null,
   "metadata": {
    "id": "aSYVWWlAu2s9"
   },
   "outputs": [],
   "source": [
    "outliers_iqr4 = df_imp[(df_capped['MedHouseVal'] < lower_bound) | (df_imp['MedHouseVal'] > upper_bound)]\n",
    "print(outliers_iqr4.shape)"
   ]
  }
 ],
 "metadata": {
  "colab": {
   "provenance": []
  },
  "kernelspec": {
   "display_name": "Python 3 (ipykernel)",
   "language": "python",
   "name": "python3"
  },
  "language_info": {
   "codemirror_mode": {
    "name": "ipython",
    "version": 3
   },
   "file_extension": ".py",
   "mimetype": "text/x-python",
   "name": "python",
   "nbconvert_exporter": "python",
   "pygments_lexer": "ipython3",
   "version": "3.12.7"
  }
 },
 "nbformat": 4,
 "nbformat_minor": 4
}
